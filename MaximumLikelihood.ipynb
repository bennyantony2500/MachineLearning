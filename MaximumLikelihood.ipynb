{
  "cells": [
    {
      "cell_type": "markdown",
      "metadata": {
        "id": "cc8gZLT6WX7m"
      },
      "source": [
        "# CS-5824 / Advanced Machine Learning\n",
        "# Assignment 1 Section B [ 40 Points ]"
      ]
    },
    {
      "cell_type": "markdown",
      "metadata": {
        "id": "7isVWMS9WX7p"
      },
      "source": [
        "In this assignment, **you need to complete three sections** which are based on:\n",
        "\n",
        "1. Logistic regression\n",
        "2. MLE\n",
        "3. Evaluation"
      ]
    },
    {
      "cell_type": "markdown",
      "metadata": {
        "id": "Yxhzck1aWX7q"
      },
      "source": [
        "## Submission guideline\n",
        "\n",
        "1. Click the Save button at the top of the Jupyter Notebook.\n",
        "2. Please make sure to have entered your Virginia Tech PID below.\n",
        "3. Select Edit -> Clear All Output. This will clear all the outputs from all cells (but will keep the content of ll cells).\n",
        "4. Select Runtime -> Restart and Run All. This will run all the cells in order.\n",
        "5. Once you've rerun everything, select File -> Print -> Save as PDF\n",
        "6. Look at the PDF file and make sure all your solutions are there, displayed correctly. \n",
        "7. Upload **both** the PDF file and this notebook.\n",
        "8. Please **DO NOT** upload any data."
      ]
    },
    {
      "cell_type": "markdown",
      "metadata": {
        "id": "5NM7VD6NWX7r"
      },
      "source": [
        "### Please Write Your VT PID Here: 906525375"
      ]
    },
    {
      "cell_type": "markdown",
      "metadata": {
        "id": "G7vN9PE-ZFvg"
      },
      "source": [
        "# Section 0. Environment Set Up"
      ]
    },
    {
      "cell_type": "code",
      "execution_count": null,
      "metadata": {
        "colab": {
          "base_uri": "https://localhost:8080/"
        },
        "id": "B8HcRjRUYktI",
        "outputId": "e82c2271-b57f-40d9-a792-a55092953a12"
      },
      "outputs": [
        {
          "output_type": "stream",
          "name": "stdout",
          "text": [
            "Looking in indexes: https://pypi.org/simple, https://us-python.pkg.dev/colab-wheels/public/simple/\n",
            "Requirement already satisfied: scipy==1.1.0 in /usr/local/lib/python3.7/dist-packages (1.1.0)\n",
            "Requirement already satisfied: Pillow==4.3.0 in /usr/local/lib/python3.7/dist-packages (4.3.0)\n",
            "Requirement already satisfied: numpy>=1.8.2 in /usr/local/lib/python3.7/dist-packages (from scipy==1.1.0) (1.21.6)\n",
            "Requirement already satisfied: olefile in /usr/local/lib/python3.7/dist-packages (from Pillow==4.3.0) (0.46)\n"
          ]
        }
      ],
      "source": [
        "!pip install scipy==1.1.0 Pillow==4.3.0"
      ]
    },
    {
      "cell_type": "markdown",
      "metadata": {
        "id": "_Pja5zjFXwTp"
      },
      "source": [
        "Mount your google drive in google colab"
      ]
    },
    {
      "cell_type": "code",
      "execution_count": null,
      "metadata": {
        "colab": {
          "base_uri": "https://localhost:8080/"
        },
        "id": "mdVPU9EUXvij",
        "outputId": "e974dd8f-04eb-4859-bc14-4cc3ba2e90d5"
      },
      "outputs": [
        {
          "output_type": "stream",
          "name": "stdout",
          "text": [
            "Drive already mounted at /content/gdrive/; to attempt to forcibly remount, call drive.mount(\"/content/gdrive/\", force_remount=True).\n"
          ]
        }
      ],
      "source": [
        "from google.colab import drive\n",
        "drive.mount('/content/gdrive/')"
      ]
    },
    {
      "cell_type": "markdown",
      "metadata": {
        "id": "vg6RLG8AX73v"
      },
      "source": [
        "Append the directory to your python path using sys"
      ]
    },
    {
      "cell_type": "code",
      "execution_count": null,
      "metadata": {
        "id": "HwSblWSIX-qM"
      },
      "outputs": [],
      "source": [
        "import sys\n",
        "prefix = '/content/gdrive/My Drive/'\n",
        "# modify \"customized_path_to_your_homework\" here to where you uploaded your homework\n",
        "customized_path_to_your_homework = 'CS 5824 ML/HW1/'\n",
        "sys_path = prefix + customized_path_to_your_homework\n",
        "sys.path.append(sys_path)"
      ]
    },
    {
      "cell_type": "markdown",
      "metadata": {
        "id": "Shi_GW74rBGx"
      },
      "source": [
        "Run some setup code for this notebook."
      ]
    },
    {
      "cell_type": "code",
      "execution_count": null,
      "metadata": {
        "id": "HNkFUWI8WX7u"
      },
      "outputs": [],
      "source": [
        "from __future__ import print_function\n",
        "import random\n",
        "import numpy as np\n",
        "import matplotlib.pyplot as plt\n",
        "\n",
        "# This is a bit of magic to make matplotlib figures appear inline in the notebook rather than in a new window.\n",
        "%matplotlib inline\n",
        "plt.rcParams['figure.figsize'] = (10.0, 8.0) # set default size of plots\n",
        "plt.rcParams['image.interpolation'] = 'nearest'\n",
        "plt.rcParams['image.cmap'] = 'gray'\n",
        "\n",
        "# Some more magic so that the notebook will reload external python modules;\n",
        "# see http://stackoverflow.com/questions/1907993/autoreload-of-modules-in-ipython\n",
        "%load_ext autoreload\n",
        "%autoreload 2\n",
        "from sklearn.datasets import make_blobs\n",
        "from sklearn.model_selection import train_test_split\n",
        "from sklearn.feature_selection import SelectFromModel\n",
        "from sklearn import preprocessing"
      ]
    },
    {
      "cell_type": "markdown",
      "metadata": {
        "id": "whfPbRDScOBs"
      },
      "source": [
        "## Section 1. Logistic Regression [ 18 points ]\n",
        "\n",
        "In this problem, we’ll apply logistic regression to a data set of spam email. \n",
        "This data consists of 4601 email messages, from which 57 features have been extracted. These are as follows:\n",
        "- 48 features in [0, 100], giving the percentage of words in a given message which match a given\n",
        "word on a list containing, e.g., “business”, “free”, etc.\n",
        "- 6 features in [0, 100], giving the percentage of characters in the email that match characters on a\n",
        "list containing, e.g., “$”, “#”, etc.\n",
        "- Feature 55: The average length of an uninterrupted sequence of capital letters.\n",
        "- Feature 56: The length of the longest uninterrupted sequence of capital letters.\n",
        "- Feature 57: The sum of the lengths of uninterrupted sequences of capital letters.\n",
        "\n",
        "\n",
        "There are files spam.train.dat and spam.test.dat (provided in the assignment files) in which\n",
        "each row is an email. There are 3000 training and 1601 test examples. The final column in each file\n",
        "indicates whether the email was spam.\n",
        "\n",
        "The files can be loaded using the block of code below. You will answer the following questions using the data provided. "
      ]
    },
    {
      "cell_type": "code",
      "execution_count": null,
      "metadata": {
        "colab": {
          "base_uri": "https://localhost:8080/"
        },
        "id": "Y88kiOiTcwKm",
        "outputId": "03df100d-4f62-445e-d0b5-68548a8d281a"
      },
      "outputs": [
        {
          "output_type": "execute_result",
          "data": {
            "text/plain": [
              "array([[  0.  ,   0.  ,   0.  , ...,   5.  ,  17.  ,   0.  ],\n",
              "       [  0.  ,   0.  ,   0.  , ...,  34.  , 127.  ,   0.  ],\n",
              "       [  1.19,   0.  ,   0.  , ...,  11.  ,  68.  ,   0.  ],\n",
              "       ...,\n",
              "       [  0.49,   0.49,   0.49, ...,  47.  , 281.  ,   1.  ],\n",
              "       [  0.  ,   0.95,   0.95, ...,  45.  , 464.  ,   1.  ],\n",
              "       [  0.  ,   0.  ,   0.  , ...,   1.  ,   4.  ,   0.  ]])"
            ]
          },
          "metadata": {},
          "execution_count": 5
        }
      ],
      "source": [
        "prefix = '/content/gdrive/My Drive/'\n",
        "# modify \"customized_path_to_your_homework\" here to where your data is\n",
        "customized_path_to_your_homework = 'CS 5824 ML/HW1/'\n",
        "train_path = prefix + customized_path_to_your_homework + 'data/spam.train.dat'\n",
        "train_set = np.genfromtxt('/content/spam.train.dat')\n",
        "train_set\n",
        "test_path = prefix + customized_path_to_your_homework + '/content/spam.test.dat'\n",
        "test_set = np.genfromtxt('/content/spam.test.dat')\n",
        "test_set"
      ]
    },
    {
      "cell_type": "markdown",
      "metadata": {
        "id": "wIM0eb1he8K2"
      },
      "source": [
        "### Question 1. [ 3 points ]\n",
        "\n",
        "Build a Logistic Regression model to classify whether an email is spam or not using the *spam* data set. Report your training and test performance."
      ]
    },
    {
      "cell_type": "code",
      "execution_count": null,
      "metadata": {
        "id": "Iqd_VTJuf5jz"
      },
      "outputs": [],
      "source": [
        "#Build your model\n",
        "X=train_set[:,:-1]\n",
        "Y=train_set[:,-1]\n",
        "xt=test_set[:,:-1]\n",
        "yt=test_set[:,-1]\n",
        "from sklearn.preprocessing import StandardScaler\n",
        "sc_X = StandardScaler()\n",
        "X = sc_X.fit_transform(X)\n",
        "xt = sc_X.transform(xt)\n",
        "from sklearn.linear_model import LogisticRegression\n",
        "from sklearn import metrics\n",
        "logreg = LogisticRegression()\n",
        "logreg.fit(X, Y)\n",
        "y_predtr=logreg.predict(X)\n",
        "y_pred = logreg.predict(xt)\n"
      ]
    },
    {
      "cell_type": "code",
      "execution_count": null,
      "metadata": {
        "colab": {
          "base_uri": "https://localhost:8080/"
        },
        "id": "wy-OYYh9jigk",
        "outputId": "99a8a3a9-fa2d-4aca-822e-6b09520e79ae"
      },
      "outputs": [
        {
          "output_type": "stream",
          "name": "stdout",
          "text": [
            "Accuracy of training:  0.9323333333333333\n",
            "Accuracy of test:  0.9206745783885072\n"
          ]
        }
      ],
      "source": [
        "#Report training and test performance here\n",
        "from sklearn.metrics import accuracy_score\n",
        "print (\"Accuracy of training: \", accuracy_score(Y, y_predtr))\n",
        "print (\"Accuracy of test: \", accuracy_score(yt, y_pred))"
      ]
    },
    {
      "cell_type": "markdown",
      "metadata": {
        "id": "APUOMYTGgHCv"
      },
      "source": [
        "### Question 2. [ 3 points ]\n",
        "\n",
        "Plot the learning curve for this model. What is the Bias/Variance trade-off for this model ?"
      ]
    },
    {
      "cell_type": "code",
      "source": [
        "from mlxtend.plotting import plot_learning_curves\n",
        "import matplotlib.pyplot as plt\n",
        "plot_learning_curves(X, Y, xt, yt, logreg, scoring = 'log_loss')"
      ],
      "metadata": {
        "colab": {
          "base_uri": "https://localhost:8080/",
          "height": 982
        },
        "id": "iuoD2XdGbbAG",
        "outputId": "7fc87ff6-86d9-4300-8518-fb12fbb71ea1"
      },
      "execution_count": null,
      "outputs": [
        {
          "output_type": "execute_result",
          "data": {
            "text/plain": [
              "([1.9572106556687763,\n",
              "  2.072345240968013,\n",
              "  2.2642282204924387,\n",
              "  2.245041788267334,\n",
              "  2.601946209136085,\n",
              "  2.3026086366961573,\n",
              "  2.302606796352866,\n",
              "  2.403345846073058,\n",
              "  2.404944123130757,\n",
              "  2.3371459915845256],\n",
              " [3.8184925672457353,\n",
              "  3.4517472838519305,\n",
              "  3.149716761988688,\n",
              "  3.14971776086118,\n",
              "  3.106570258060005,\n",
              "  3.0202757518939003,\n",
              "  3.04184800498575,\n",
              "  2.912405496582223,\n",
              "  2.7398204797399837,\n",
              "  2.73982097917623])"
            ]
          },
          "metadata": {},
          "execution_count": 8
        },
        {
          "output_type": "display_data",
          "data": {
            "text/plain": [
              "<Figure size 720x576 with 1 Axes>"
            ],
            "image/png": "[encoded data removed]"
          },
          "metadata": {}
        }
      ]
    },
    {
      "cell_type": "code",
      "source": [
        "'''\n",
        "Initially the model's training set has a low bias but has a high variance as the error in training is almost 0 but for test it is high almost 3.8 resulting in overfitting. As the training set size increases, the test error\n",
        "decreases and the training error increases. At almost 50 percentage the model has a high bias and still compartively higher error resulting in under fitting. But from 80 percentage the model' test error decreases\n",
        "further as does the model's train error resulting in an optimal tradeoff between bias and variance resulting in an optimal model.\n",
        "'''"
      ],
      "metadata": {
        "id": "lYmeyKscfF0n",
        "colab": {
          "base_uri": "https://localhost:8080/",
          "height": 71
        },
        "outputId": "877c6a43-e1e5-4490-883c-55f31ca9a382"
      },
      "execution_count": null,
      "outputs": [
        {
          "output_type": "execute_result",
          "data": {
            "text/plain": [
              "\"\\nInitially the model's training set has a low bias but has a high variance as the error in training is almost 0 but for test it is high almost 3.8 resulting in overfitting. As the training set size increases, the test error\\ndecreases and the training error increases. At almost 50 percentage the model has a high bias and still compartively higher error resulting in under fitting. But from 80 percentage the model' test error decreases\\nfurther as does the model's train error resulting in an optimal tradeoff between bias and variance resulting in an optimal model.\\n\""
            ],
            "application/vnd.google.colaboratory.intrinsic+json": {
              "type": "string"
            }
          },
          "metadata": {},
          "execution_count": 10
        }
      ]
    },
    {
      "cell_type": "markdown",
      "metadata": {
        "id": "KOH01r2BgvMF"
      },
      "source": [
        "### Question 3. [ 3 points ]\n",
        "\n",
        "Apply L2-regularized logistic regression. Use cross-validation to determine an appropriate regularization penalty. Report your procedure and the value you find. What training and test performance do you get with this value?"
      ]
    },
    {
      "cell_type": "code",
      "execution_count": null,
      "metadata": {
        "id": "gupzh2L8g0xI"
      },
      "outputs": [],
      "source": [
        "#Apply L2-regularized logistic regression\n",
        "from sklearn.model_selection import cross_val_score\n",
        "lamb=0.1\n",
        "l2=[]\n",
        "c=0\n",
        "for i in range(100):\n",
        "  c=1/lamb\n",
        "  c=round(c,2)\n",
        "  l2.append(c)\n",
        "  lamb=lamb+0.01\n"
      ]
    },
    {
      "cell_type": "code",
      "source": [
        "l4=[0.001,0.01,0.1,1,10,100]"
      ],
      "metadata": {
        "id": "uuenHRH9J2Cx"
      },
      "execution_count": null,
      "outputs": []
    },
    {
      "cell_type": "code",
      "source": [
        "'''\n",
        "C is the inverse of the regularization strength(alpha or lambda) intially lambda is chosen as 0.1 then lambda is inversed converted to c and stored in l2. Each time lambda is increased by 0.01.\n",
        "The list l2 containing the C values is passed to the model with l2 regualrization and the best value based on cross validation is chosen\n",
        "'''"
      ],
      "metadata": {
        "id": "aksharrhh42E",
        "colab": {
          "base_uri": "https://localhost:8080/",
          "height": 53
        },
        "outputId": "d5e50190-f3a2-49ff-8e6c-7b6f4fc9961a"
      },
      "execution_count": null,
      "outputs": [
        {
          "output_type": "execute_result",
          "data": {
            "text/plain": [
              "'\\nC is the inverse of the regularization strength(alpha or lambda) intially lambda is chosen as 0.1 then lambda is inversed converted to c and stored in l2. Each time lambda is increased by 0.01.\\nThe list l2 containing the C values is passed to the model with l2 regualrization and the best value based on cross validation is chosen\\n'"
            ],
            "application/vnd.google.colaboratory.intrinsic+json": {
              "type": "string"
            }
          },
          "metadata": {},
          "execution_count": 13
        }
      ]
    },
    {
      "cell_type": "code",
      "execution_count": null,
      "metadata": {
        "id": "PdPg89W3gIhk"
      },
      "outputs": [],
      "source": [
        "from sklearn.linear_model import LogisticRegressionCV\n",
        "clf = LogisticRegressionCV(penalty='l2',Cs=l2,cv=5, random_state=0,max_iter=3000).fit(X, Y)\n",
        "l2ytt=clf.predict(X)\n",
        "l2yt=clf.predict(xt)"
      ]
    },
    {
      "cell_type": "code",
      "execution_count": null,
      "metadata": {
        "colab": {
          "base_uri": "https://localhost:8080/"
        },
        "id": "8Fypqstlg0lD",
        "outputId": "80c4e811-e7a0-46de-a007-afe6338e6b29"
      },
      "outputs": [
        {
          "output_type": "stream",
          "name": "stdout",
          "text": [
            "Accuracy of training:  0.9333333333333333\n",
            "Accuracy of test:  0.9194253591505309\n"
          ]
        }
      ],
      "source": [
        "from sklearn.metrics import accuracy_score\n",
        "print (\"Accuracy of training: \", accuracy_score(Y, l2ytt))\n",
        "print (\"Accuracy of test: \", accuracy_score(yt, l2yt))"
      ]
    },
    {
      "cell_type": "markdown",
      "metadata": {
        "id": "qwnfSzAhgv3D"
      },
      "source": [
        "### Question 4. [ 3 points ]\n",
        "\n",
        "Apply L1-regularized logistic regression. Use cross-validation to determine an appropriate regularization penalty. Report your procedure and the value you find. What training and test performance do you get with this value?"
      ]
    },
    {
      "cell_type": "code",
      "source": [
        "'''\n",
        "C is the inverse of the regularization strength(alpha or lambda) intially lambda is chosen as 0.1 then lambda is inversed converted to c and stored in l2. Each time lambda is increased by 0.01.\n",
        "The list l2 containing the C values is passed to the model with l1 regualrization and the best value based on cross validation is chosen\n",
        "'''"
      ],
      "metadata": {
        "id": "ucTxqN3Ypl1z",
        "colab": {
          "base_uri": "https://localhost:8080/",
          "height": 53
        },
        "outputId": "b72f2271-4264-45f4-be9f-a7cab058fd5b"
      },
      "execution_count": null,
      "outputs": [
        {
          "output_type": "execute_result",
          "data": {
            "text/plain": [
              "'\\nC is the inverse of the regularization strength(alpha or lambda) intially lambda is chosen as 0.1 then lambda is inversed converted to c and stored in l2. Each time lambda is increased by 0.01.\\nThe list l2 containing the C values is passed to the model with l1 regualrization and the best value based on cross validation is chosen\\n'"
            ],
            "application/vnd.google.colaboratory.intrinsic+json": {
              "type": "string"
            }
          },
          "metadata": {},
          "execution_count": 16
        }
      ]
    },
    {
      "cell_type": "code",
      "source": [
        "from sklearn.linear_model import LogisticRegressionCV\n",
        "clf1 = LogisticRegressionCV(penalty='l1',Cs=[10],cv=5, random_state=0,max_iter=3000,solver='liblinear').fit(X, Y)\n",
        "l1ytt=clf.predict(X)\n",
        "l1yt=clf.predict(xt)"
      ],
      "metadata": {
        "id": "LPzDHfxqyDDW"
      },
      "execution_count": null,
      "outputs": []
    },
    {
      "cell_type": "code",
      "source": [
        "from sklearn.linear_model import LogisticRegressionCV\n",
        "clf1 = LogisticRegressionCV(penalty='l1',Cs=l2,cv=5, random_state=0,max_iter=3000,solver='liblinear').fit(X, Y)\n",
        "l1ytt=clf.predict(X)\n",
        "l1yt=clf.predict(xt)"
      ],
      "metadata": {
        "id": "X6Z3zIYYja7t"
      },
      "execution_count": null,
      "outputs": []
    },
    {
      "cell_type": "code",
      "source": [
        "from sklearn.metrics import accuracy_score\n",
        "print (\"Accuracy of training: \", accuracy_score(Y, l1ytt))\n",
        "print (\"Accuracy of test: \", accuracy_score(yt, l1yt))"
      ],
      "metadata": {
        "colab": {
          "base_uri": "https://localhost:8080/"
        },
        "id": "b9oaTz6sjgPP",
        "outputId": "c0a2bbb7-cd03-4106-fd27-4f48510d0a51"
      },
      "execution_count": null,
      "outputs": [
        {
          "output_type": "stream",
          "name": "stdout",
          "text": [
            "Accuracy of training:  0.9333333333333333\n",
            "Accuracy of test:  0.9194253591505309\n"
          ]
        }
      ]
    },
    {
      "cell_type": "markdown",
      "metadata": {
        "id": "vEMnUbhNiKDv"
      },
      "source": [
        "### Question 5. [ 3 points ]\n",
        "\n",
        "What are the advantages and disadvantages of the two models with repect to this problem? For example, have there been a lot of sparceness in the model, or what kind of features have been removed?"
      ]
    },
    {
      "cell_type": "code",
      "execution_count": null,
      "metadata": {
        "colab": {
          "base_uri": "https://localhost:8080/"
        },
        "id": "-NqGkLu0kz_u",
        "outputId": "947e2efe-2648-4cc2-d31a-382b55fc7278"
      },
      "outputs": [
        {
          "output_type": "stream",
          "name": "stdout",
          "text": [
            "[ True  True  True  True  True  True  True  True  True  True False  True\n",
            " False False  True  True  True  True  True  True  True  True  True  True\n",
            "  True  True  True  True  True  True  True False  True False  True  True\n",
            "  True  True  True  True  True  True  True  True  True  True  True  True\n",
            "  True False  True  True  True  True False  True  True]\n",
            "[[-3.63024943e-02 -8.97399054e-02  5.72743743e-02  1.17290718e-01\n",
            "   3.44114578e-01  1.89826928e-01  7.66496853e-01  2.04839704e-01\n",
            "   1.68921000e-01  4.16272608e-02  0.00000000e+00 -1.08321522e-02\n",
            "   0.00000000e+00  0.00000000e+00  1.14596346e-01  6.05707266e-01\n",
            "   2.51584094e-01  8.16870174e-02  1.35287660e-01  2.07687498e-01\n",
            "   1.90272174e-01  1.91626027e-01  7.86388206e-01  3.33494095e-01\n",
            "  -1.74793727e+00 -6.07138784e-01 -1.84541240e+00  6.92065824e-02\n",
            "  -1.11057044e-01 -7.44490621e-02 -1.76199941e-03  0.00000000e+00\n",
            "  -3.81935554e-01  0.00000000e+00 -6.62675783e-02  9.34495055e-02\n",
            "  -2.01579703e-01 -5.08769385e-02 -1.05743086e-01 -1.94887364e-01\n",
            "  -1.24567674e-01 -6.70083737e-01 -6.07997383e-02 -3.01659448e-01\n",
            "  -5.25440630e-01 -6.61214114e-01 -9.00014165e-02 -2.27292182e-01\n",
            "  -1.94270324e-01  0.00000000e+00 -4.70941870e-02  2.56901937e-01\n",
            "   1.08745745e+00  1.84624055e-01  0.00000000e+00  1.05313498e+00\n",
            "   2.06585328e-01]]\n"
          ]
        }
      ],
      "source": [
        "# Advantages and disadvantages of the two models \n",
        "\n",
        "\n",
        "selector2 = SelectFromModel(estimator=LogisticRegressionCV(penalty='l1',Cs=[0.1],cv=5, random_state=0,max_iter=3000,solver='liblinear')).fit(X, Y)\n",
        "print(selector2.get_support())\n",
        "print(selector2.estimator_.coef_)\n"
      ]
    },
    {
      "cell_type": "code",
      "source": [
        "#Lasso regression\n",
        "'''\n",
        "The lasso regression takes the magnitude of the coeffecients. The coefficients can be shrunk towards a mean of zero. As a result feature reduction is possible in lasso regression. The coefficients are laplacian distributed\n",
        "We get sparsity is lasso and less important features are removed during the penalization, leading to automatic feature selection. Can be used when there are less number of significant parameters and others can be\n",
        "made to zero.\n",
        "'''"
      ],
      "metadata": {
        "id": "7iUYQFsqvsEu",
        "colab": {
          "base_uri": "https://localhost:8080/",
          "height": 71
        },
        "outputId": "5cf57023-3eab-4c5f-90aa-ab450418ec92"
      },
      "execution_count": null,
      "outputs": [
        {
          "output_type": "execute_result",
          "data": {
            "text/plain": [
              "'\\nThe lasso regression takes the magnitude of the coeffecients. The coefficients can be shrunk towards a mean of zero. As a result feature reduction is possible in lasso regression. The coefficients are laplacian distributed\\nWe get sparsity is lasso and less important features are removed during the penalization, leading to automatic feature selection. Can be used when there are less number of significant parameters and others can be\\nmade to zero.\\n'"
            ],
            "application/vnd.google.colaboratory.intrinsic+json": {
              "type": "string"
            }
          },
          "metadata": {},
          "execution_count": 21
        }
      ]
    },
    {
      "cell_type": "code",
      "source": [
        "selector1 = SelectFromModel(estimator= LogisticRegressionCV(penalty='l2',Cs=l2,cv=5, random_state=0,max_iter=3000)).fit(X, Y)\n",
        "print(selector1.get_support())\n",
        "print(selector1.estimator_.coef_)"
      ],
      "metadata": {
        "colab": {
          "base_uri": "https://localhost:8080/"
        },
        "id": "vEZT0CTqvo4m",
        "outputId": "23c710f6-50ae-4901-8540-8f64f8e0ffae"
      },
      "execution_count": null,
      "outputs": [
        {
          "output_type": "stream",
          "name": "stdout",
          "text": [
            "[False False False  True False False  True False False False False False\n",
            " False False False  True False False False False False False  True False\n",
            "  True  True  True False  True False False False  True  True  True False\n",
            " False False False False  True  True False  True  True  True False  True\n",
            " False False False False  True  True  True  True False]\n",
            "[[-1.02005824e-01 -2.35924011e-01  6.09101524e-02  1.15070072e+00\n",
            "   3.84296308e-01  2.91420933e-01  6.97543516e-01  2.11561433e-01\n",
            "   2.57989268e-01  4.75344990e-02 -2.82454832e-02 -1.47290215e-02\n",
            "  -6.60590475e-04  1.76857539e-02  2.68201840e-01  9.78678673e-01\n",
            "   3.18159754e-01  3.84588159e-02  1.30829748e-01  3.09655726e-01\n",
            "   1.86343504e-01  1.79694116e-01  8.69842684e-01  3.26547716e-01\n",
            "  -3.01068909e+00 -1.61983248e+00 -4.96055626e+00  2.00624136e-01\n",
            "  -1.71010482e+00 -2.42789608e-01 -1.83523415e-01  6.12998150e-01\n",
            "  -6.86205750e-01 -1.43710712e+00 -1.26119094e+00  4.21316790e-01\n",
            "  -2.04077982e-01 -1.73445194e-01 -4.03522201e-01 -4.32569363e-01\n",
            "  -1.88145273e+00 -2.04473942e+00 -2.41888967e-01 -7.85382493e-01\n",
            "  -8.41591839e-01 -1.19965241e+00 -1.85866151e-01 -6.97725709e-01\n",
            "  -3.46892904e-01 -1.16446623e-03 -1.45697965e-01  2.28604318e-01\n",
            "   1.14809122e+00  1.35111314e+00  1.58782473e+00  1.31169206e+00\n",
            "   2.87447553e-01]]\n"
          ]
        }
      ]
    },
    {
      "cell_type": "code",
      "source": [
        "#Ridge regression(l2)\n",
        "'''\n",
        "The ridge regression takes the coefficient of magnitude and squares them. As a result the coefficient can only be taken closer towards zero but not reduced to zero. As a result though the amount of certain coefficients\n",
        "can be decreased they cannot be eliminated. In ridge the coefficients are normally distributed. When most of the features impact the model ridge is chosen.\n",
        "'''"
      ],
      "metadata": {
        "id": "j_w_ik5Htve2",
        "colab": {
          "base_uri": "https://localhost:8080/",
          "height": 53
        },
        "outputId": "eb59f8d6-4b9c-4d71-92fb-563237a84826"
      },
      "execution_count": null,
      "outputs": [
        {
          "output_type": "execute_result",
          "data": {
            "text/plain": [
              "'\\nThe ridge regression takes the coefficient of magnitude and squares them. As a result the coefficient can only be taken closer towards zero but not reduced to zero. As a result though the amount of certain coefficients\\ncan be decreased they cannot be eliminated. In ridge the coefficients are normally distributed. When most of the features impact the model ridge is chosen.\\n'"
            ],
            "application/vnd.google.colaboratory.intrinsic+json": {
              "type": "string"
            }
          },
          "metadata": {},
          "execution_count": 23
        }
      ]
    },
    {
      "cell_type": "markdown",
      "metadata": {
        "id": "rmnlr_kTi2Rc"
      },
      "source": [
        "### Question 6. [3 points]\n",
        "\n",
        "Transform the features with the basis function of your choice. Retrain the two models above and report the model performances. Why did you choose this basis function ?"
      ]
    },
    {
      "cell_type": "code",
      "source": [
        "X=train_set[:,:-1]\n",
        "Y=train_set[:,-1]\n",
        "xt=test_set[:,:-1]\n",
        "yt=test_set[:,-1]"
      ],
      "metadata": {
        "id": "c2S00psshyFW"
      },
      "execution_count": null,
      "outputs": []
    },
    {
      "cell_type": "code",
      "source": [
        "mean=np.mean(X,axis=0)\n",
        "#meant=np.mean(xt,axis=0)\n",
        "mean = np.expand_dims(mean, axis=0)\n",
        "#Xte=np.expand_dims(meant, axis=0)\n",
        "meanin=1/mean\n",
        "#Xte=1/Xte\n",
        "Xte1=meanin*np.exp(-(meanin*X))\n",
        "Xtr1=meanin*np.exp(-(meanin*xt))\n",
        "\n"
      ],
      "metadata": {
        "id": "zdO6i9kQhzGU"
      },
      "execution_count": null,
      "outputs": []
    },
    {
      "cell_type": "code",
      "source": [
        "l4=[0.001,0.01,0.1,1,10,100]"
      ],
      "metadata": {
        "id": "iqHdImDBihZ4"
      },
      "execution_count": null,
      "outputs": []
    },
    {
      "cell_type": "code",
      "source": [
        "clfb = LogisticRegressionCV(penalty='l1',Cs=l4,cv=5, random_state=0,max_iter=3000,solver='liblinear').fit(Xte1, Y)\n",
        "l1ybt=clfb.predict(Xte1)\n",
        "l1yb=clfb.predict(Xtr1)"
      ],
      "metadata": {
        "id": "vrOhvNFxiXgX"
      },
      "execution_count": null,
      "outputs": []
    },
    {
      "cell_type": "code",
      "source": [
        "from sklearn.metrics import accuracy_score\n",
        "print (\"Accuracy of training: \", accuracy_score(Y, l1ybt))\n",
        "print (\"Accuracy of test: \", accuracy_score(yt, l1yb))"
      ],
      "metadata": {
        "colab": {
          "base_uri": "https://localhost:8080/"
        },
        "id": "xM5ADyQjigbn",
        "outputId": "55d88b4a-680f-4492-d31f-5448478b64cc"
      },
      "execution_count": null,
      "outputs": [
        {
          "output_type": "stream",
          "name": "stdout",
          "text": [
            "Accuracy of training:  0.95\n",
            "Accuracy of test:  0.9350405996252342\n"
          ]
        }
      ]
    },
    {
      "cell_type": "code",
      "source": [
        "clfb = LogisticRegressionCV(penalty='l2',Cs=l4,cv=5, random_state=0,max_iter=3000,solver='liblinear').fit(Xte1, Y)\n",
        "l1ybt=clfb.predict(Xte1)\n",
        "l1yb=clfb.predict(Xtr1)"
      ],
      "metadata": {
        "id": "stoxc6l252kX"
      },
      "execution_count": null,
      "outputs": []
    },
    {
      "cell_type": "code",
      "source": [
        "from sklearn.metrics import accuracy_score\n",
        "print (\"Accuracy of training: \", accuracy_score(Y, l1ybt))\n",
        "print (\"Accuracy of test: \", accuracy_score(yt, l1yb))"
      ],
      "metadata": {
        "colab": {
          "base_uri": "https://localhost:8080/"
        },
        "id": "OZb8AzvH67uQ",
        "outputId": "8ce6362a-1ff7-4fdd-da14-9e83195ad4ff"
      },
      "execution_count": null,
      "outputs": [
        {
          "output_type": "stream",
          "name": "stdout",
          "text": [
            "Accuracy of training:  0.9493333333333334\n",
            "Accuracy of test:  0.9356652092442224\n"
          ]
        }
      ]
    },
    {
      "cell_type": "code",
      "source": [
        "#Reason for choosing basis functions\n",
        "'''\n",
        "Linear and logisitc regression assumes that the data is normally gaussian distributed. The basis function considered is an exponential function which is 1/mean*(exp(-(1/mean*xi)))where i belongs to the number of data\n",
        "samples.The relationship betweeen the dependent and independent variables are considered to be linear. The data points are also considered to be follow multivariate normalitiy. As we are performing logistic regression\n",
        "we assume that there is no or very little collinearity between two or more independent variables.  The values are also considered to be Homoscedascity, i.e. the error term remains a constant across all independent\n",
        "variables.\n",
        "'''\n"
      ],
      "metadata": {
        "colab": {
          "base_uri": "https://localhost:8080/",
          "height": 89
        },
        "id": "n6UzMrtR8ThT",
        "outputId": "78688723-e072-4d50-a7b0-e4d4b6e194fd"
      },
      "execution_count": null,
      "outputs": [
        {
          "output_type": "execute_result",
          "data": {
            "text/plain": [
              "'\\nLinear and logisitc regression assumes that the data is normally gaussian distributed. The basis function considered is an exponential function which is 1/mean*(exp(-(1/mean*xi)))where i belongs to the number of data\\nsamples.The relationship betweeen the dependent and independent variables are considered to be linear. The data points are also considered to be follow multivariate normalitiy. As we are performing logistic regression\\nwe assume that there is no or very little collinearity between two or more independent variables.  The values are also considered to be Homoscedascity, i.e. the error term remains a constant across all independent\\nvariables.\\n'"
            ],
            "application/vnd.google.colaboratory.intrinsic+json": {
              "type": "string"
            }
          },
          "metadata": {},
          "execution_count": 32
        }
      ]
    },
    {
      "cell_type": "markdown",
      "metadata": {
        "id": "i0Am_07CrKH_"
      },
      "source": [
        "# Section 2. MLE [15 pts]"
      ]
    },
    {
      "cell_type": "markdown",
      "metadata": {
        "id": "hTRlMoEkvcla"
      },
      "source": [
        "For the following problems, we will a collaborative filtering data set. These data\n",
        "are originally from http://eigentaste.berkeley.edu/dataset/, however, they have been altered somewhat for this HW, so you should use the files directly shared from us. These problems will only examine the marginal distribution of the ratings themselves. Assuming that the data set is in your homework path on google drive, the ratings can be loaded into your collab session using the block of code in the next cell. This will give you a 1761439 × 3 matrix of doubles. Right now we only care about the ratings, which are the third column. You’ll be asked to produce figures. Include these figures in your notebook."
      ]
    },
    {
      "cell_type": "code",
      "execution_count": null,
      "metadata": {
        "colab": {
          "base_uri": "https://localhost:8080/"
        },
        "id": "QbQEPwxizLKa",
        "outputId": "c59087bc-94aa-481e-cba6-1c3510598cba"
      },
      "outputs": [
        {
          "output_type": "execute_result",
          "data": {
            "text/plain": [
              "array([[ 1.000000e+00,  5.000000e+00,  2.275770e-01],\n",
              "       [ 1.000000e+00,  7.000000e+00, -9.279702e+00],\n",
              "       [ 1.000000e+00,  8.000000e+00, -9.267760e+00],\n",
              "       ...,\n",
              "       [ 6.397800e+04,  1.240000e+02, -9.022733e+00],\n",
              "       [ 6.397800e+04,  5.800000e+01, -8.644745e+00],\n",
              "       [ 6.397800e+04,  4.400000e+01, -8.445059e+00]])"
            ]
          },
          "metadata": {},
          "execution_count": 33
        }
      ],
      "source": [
        "prefix = '/content/gdrive/My Drive/'\n",
        "# modify \"customized_path_to_your_homework\" here to where your data is\n",
        "customized_path_to_your_homework = 'CS 5824 ML/HW1/'\n",
        "data_path = prefix + customized_path_to_your_homework + 'data/jester_ratings.dat'\n",
        "data = np.genfromtxt('/content/jester_ratings.dat')\n",
        "data"
      ]
    },
    {
      "cell_type": "markdown",
      "metadata": {
        "id": "0n6r6d8Nzpow"
      },
      "source": [
        "### Question 1. [ 5 points ]\n",
        "\n",
        "Generate a set of normalized histograms (histograms which have an area of one) of the ratings and\n",
        "qualitatively describe the empirical distributions that you see. Try several different bin sizes and explain your choices. Are the resulting density estimates uni- or multi-modal? Where do the peaks\n",
        "appear to be? Do these answers change as you vary the number of bins?"
      ]
    },
    {
      "cell_type": "code",
      "execution_count": null,
      "metadata": {
        "id": "bo3cSrISzpow"
      },
      "outputs": [],
      "source": [
        "# Your answer here (code, histogram, response to questions)\n",
        "def diagnostic_plots(df, variable,bi):\n",
        "    #  to plot a histogram and a Q-Q plot\n",
        "    # side by side, for a certain variable\n",
        "    \n",
        "    print(df.mean(axis = 0))\n",
        "    plt.figure(figsize=(15,6))\n",
        "    plt.subplot(1, 2, 1)\n",
        "    df[variable].hist(bins=bi)\n",
        "\n",
        "    plt.subplot(1, 2, 2)\n",
        "    stats.probplot(df[variable], dist=\"norm\", plot=plt)\n",
        "    "
      ]
    },
    {
      "cell_type": "code",
      "execution_count": null,
      "metadata": {
        "id": "IWgUlbjpJT4J"
      },
      "outputs": [],
      "source": [
        "import pandas as pd\n",
        "import scipy.stats as stats\n",
        "X=data[:,2]\n",
        "df = pd.DataFrame(X[:-1], columns = ['X'])"
      ]
    },
    {
      "cell_type": "code",
      "execution_count": null,
      "metadata": {
        "colab": {
          "base_uri": "https://localhost:8080/",
          "height": 440
        },
        "id": "8Sh7BvrxKCoN",
        "outputId": "a92f8245-ee36-4d9c-8329-41879387318a"
      },
      "outputs": [
        {
          "output_type": "stream",
          "name": "stdout",
          "text": [
            "X    1.618585\n",
            "dtype: float64\n"
          ]
        },
        {
          "output_type": "display_data",
          "data": {
            "text/plain": [
              "<Figure size 1080x432 with 2 Axes>"
            ],
            "image/png": "[encoded data removed]"
          },
          "metadata": {
            "needs_background": "light"
          }
        }
      ],
      "source": [
        "diagnostic_plots(df, 'X',5)"
      ]
    },
    {
      "cell_type": "code",
      "execution_count": null,
      "metadata": {
        "colab": {
          "base_uri": "https://localhost:8080/",
          "height": 404
        },
        "id": "92OfH1HEJJU7",
        "outputId": "ec996be4-3e7b-4fc5-d83b-8fe05a8987b2"
      },
      "outputs": [
        {
          "output_type": "display_data",
          "data": {
            "text/plain": [
              "<Figure size 1080x432 with 2 Axes>"
            ],
            "image/png": "[encoded data removed]"
          },
          "metadata": {
            "needs_background": "light"
          }
        }
      ],
      "source": [
        "diagnostic_plots(df, 'X',10)"
      ]
    },
    {
      "cell_type": "code",
      "execution_count": null,
      "metadata": {
        "colab": {
          "base_uri": "https://localhost:8080/",
          "height": 440
        },
        "id": "O4lT7Q8tJugX",
        "outputId": "8e44e8a2-166e-49a2-d282-3c5d38e5268d"
      },
      "outputs": [
        {
          "output_type": "stream",
          "name": "stdout",
          "text": [
            "X    1.618585\n",
            "dtype: float64\n"
          ]
        },
        {
          "output_type": "display_data",
          "data": {
            "text/plain": [
              "<Figure size 1080x432 with 2 Axes>"
            ],
            "image/png": "[encoded data removed]"
          },
          "metadata": {
            "needs_background": "light"
          }
        }
      ],
      "source": [
        "diagnostic_plots(df, 'X',100)"
      ]
    },
    {
      "cell_type": "code",
      "source": [
        "'''\n",
        "By varying the bin size the graph changes from unimodal to multimodal. When the bin sizes are 5 the distribution has only onr peak. When the bin size is changed to 10 we are able to see two peaks. As we increase the bin size\n",
        "the models shape also changes with the right edged peak increasing. With low bin values the graph drew parallel to a gaussian distributed function but as the bin size increased it did not represent a normal distribution.\n",
        "'''"
      ],
      "metadata": {
        "colab": {
          "base_uri": "https://localhost:8080/",
          "height": 71
        },
        "id": "PTTQhTtD4W09",
        "outputId": "0b4eac89-af06-484f-cf89-8db8219f7b38"
      },
      "execution_count": null,
      "outputs": [
        {
          "output_type": "execute_result",
          "data": {
            "text/plain": [
              "'\\nBy varying the bin size the graph changes from unimodal to multimodal. When the bin sizes are 5 the distribution has only onr peak. When the bin size is changed to 10 we are able to see two peaks. As we increase the bin size\\nthe models shape also changes with the right edged peak increasing. With low bin values the graph drew parallel to a gaussian distributed function but as the bin size increased it did not represent a normal distribution.\\n'"
            ],
            "application/vnd.google.colaboratory.intrinsic+json": {
              "type": "string"
            }
          },
          "metadata": {},
          "execution_count": 40
        }
      ]
    },
    {
      "cell_type": "markdown",
      "metadata": {
        "id": "TsLbJtg1zpow"
      },
      "source": [
        "### Question 2. [ 5 points ]\n",
        "\n",
        "Perform a maximum-likelihood fit of a Gaussian distribution to the ratings and report the mean and\n",
        "variance. Overlay the MLE Gaussian fit on top of the normalized histogram. Is it a good fit or a bad fit\n",
        "and why?\n",
        "\n"
      ]
    },
    {
      "cell_type": "code",
      "execution_count": null,
      "metadata": {
        "id": "pYjgoOIwzpow"
      },
      "outputs": [],
      "source": [
        "# Fit MLE model\n",
        "import scipy\n",
        "def diagnostic_plots1(df, variable,bin):\n",
        "    # function to plot a histogram and a Q-Q plot\n",
        "    # side by side, for a certain variable\n",
        "    \n",
        "    #plt.figure(figsize=(15,6))\n",
        "    #plt.subplot(1, 2, 1)\n",
        "    #df[variable].hist(bins=10)\n",
        "\n",
        "    #plt.subplot(1, 2, 2)\n",
        "    #stats.probplot(df[variable], dist=\"norm\", plot=plt)\n",
        "    mean=np.mean(X)\n",
        "    sig=0\n",
        "    for i in range(len(X)):\n",
        "      sig=(X[i]-mean)**2+sig\n",
        "    sigma=sig/len(X)\n",
        "    sigsq=np.sqrt(sigma)\n",
        "    _, bins, _ = plt.hist(X, bin, density=1, alpha=0.5)\n",
        "    best_fit_line = scipy.stats.norm.pdf(bins, mean, sigsq)\n",
        "    plt.plot(bins, best_fit_line)\n",
        "    \n",
        "    scores = np.random.normal(loc=mean, scale=sigsq, size=500)\n",
        "    _, bins, _ = plt.hist(scores, bin, density=1, alpha=0.5)\n",
        "    \n",
        "    \n",
        "    print('sigma',sigma)\n",
        "    print('mean',mean)\n",
        "    plt.show()\n",
        "\n",
        "    "
      ]
    },
    {
      "cell_type": "code",
      "source": [
        "def diagnostic_plots2(df, variable,bin):\n",
        "    # function to plot a histogram and a Q-Q plot\n",
        "    # side by side, for a certain variable\n",
        "    \n",
        "    #plt.figure(figsize=(15,6))\n",
        "    #plt.subplot(1, 2, 1)\n",
        "    #df[variable].hist(bins=10)\n",
        "\n",
        "    #plt.subplot(1, 2, 2)\n",
        "    #stats.probplot(df[variable], dist=\"norm\", plot=plt)\n",
        "    mean=np.mean(X)\n",
        "    sig=0\n",
        "    for i in range(len(X)):\n",
        "      sig=(X[i]-mean)**2+sig\n",
        "    sigma=sig/len(X)\n",
        "    sigsq=np.sqrt(sigma)\n",
        "    _, bins, _ = plt.hist(X, bin, density=1, alpha=0.5)\n",
        "    best_fit_line = scipy.stats.norm.pdf(bins, mean, sigsq)\n",
        "    plt.plot(bins, best_fit_line)\n",
        "    \n",
        "    scores = np.random.normal(loc=mean, scale=sigsq, size=500)\n",
        "    #_, bins, _ = plt.hist(scores, 10, density=1, alpha=0.5)\n",
        "    \n",
        "    \n",
        "    print('sigma',sigma)\n",
        "    print('mean',mean)\n",
        "    plt.show()"
      ],
      "metadata": {
        "id": "OnzC3kQn4MsH"
      },
      "execution_count": null,
      "outputs": []
    },
    {
      "cell_type": "code",
      "execution_count": null,
      "metadata": {
        "colab": {
          "base_uri": "https://localhost:8080/",
          "height": 521
        },
        "id": "fadY_qbO29xC",
        "outputId": "37582ab6-3d99-43e6-ade2-eda5bc68e120"
      },
      "outputs": [
        {
          "output_type": "stream",
          "name": "stdout",
          "text": [
            "sigma 28.11713429298038\n",
            "mean 1.618578798261535\n"
          ]
        },
        {
          "output_type": "display_data",
          "data": {
            "text/plain": [
              "<Figure size 720x576 with 1 Axes>"
            ],
            "image/png": "[encoded data removed]"
          },
          "metadata": {
            "needs_background": "light"
          }
        }
      ],
      "source": [
        "# Report mean and variance\n",
        "diagnostic_plots2(df, 'X',10)"
      ]
    },
    {
      "cell_type": "code",
      "source": [
        "diagnostic_plots2(df, 'X',100)"
      ],
      "metadata": {
        "colab": {
          "base_uri": "https://localhost:8080/",
          "height": 519
        },
        "id": "-VRnr5YVVmIK",
        "outputId": "a1c9f8ec-e797-480d-bc08-1e7f78a61dbe"
      },
      "execution_count": null,
      "outputs": [
        {
          "output_type": "stream",
          "name": "stdout",
          "text": [
            "sigma 28.11713429298038\n",
            "mean 1.618578798261535\n"
          ]
        },
        {
          "output_type": "display_data",
          "data": {
            "text/plain": [
              "<Figure size 720x576 with 1 Axes>"
            ],
            "image/png": "[encoded data removed]"
          },
          "metadata": {
            "needs_background": "light"
          }
        }
      ]
    },
    {
      "cell_type": "code",
      "execution_count": null,
      "metadata": {
        "id": "_LlvlWTh29xC",
        "colab": {
          "base_uri": "https://localhost:8080/",
          "height": 519
        },
        "outputId": "67e57358-12d2-46d8-f3d2-f2463c6eda8c"
      },
      "outputs": [
        {
          "output_type": "stream",
          "name": "stdout",
          "text": [
            "sigma 28.11713429298038\n",
            "mean 1.618578798261535\n"
          ]
        },
        {
          "output_type": "display_data",
          "data": {
            "text/plain": [
              "<Figure size 720x576 with 1 Axes>"
            ],
            "image/png": "[encoded data removed]"
          },
          "metadata": {
            "needs_background": "light"
          }
        }
      ],
      "source": [
        "# Overlay two histograms\n",
        "diagnostic_plots1(df, 'X',10)"
      ]
    },
    {
      "cell_type": "code",
      "source": [
        "diagnostic_plots1(df, 'X',100)"
      ],
      "metadata": {
        "colab": {
          "base_uri": "https://localhost:8080/",
          "height": 519
        },
        "id": "rML3Z17nVrwo",
        "outputId": "96f5d697-8d0b-4da2-ff8f-e2723521e85d"
      },
      "execution_count": null,
      "outputs": [
        {
          "output_type": "stream",
          "name": "stdout",
          "text": [
            "sigma 28.11713429298038\n",
            "mean 1.618578798261535\n"
          ]
        },
        {
          "output_type": "display_data",
          "data": {
            "text/plain": [
              "<Figure size 720x576 with 1 Axes>"
            ],
            "image/png": "[encoded data removed]"
          },
          "metadata": {
            "needs_background": "light"
          }
        }
      ]
    },
    {
      "cell_type": "code",
      "execution_count": null,
      "metadata": {
        "id": "YhulyjxH29xC",
        "colab": {
          "base_uri": "https://localhost:8080/",
          "height": 53
        },
        "outputId": "d2ccc9ff-2b80-4822-9dd3-64dbdb0fa26d"
      },
      "outputs": [
        {
          "output_type": "execute_result",
          "data": {
            "text/plain": [
              "'\\nFor smaller values of bin the gaussian fit seems like a good fit but as bins are increased it is evident that the gaussian function is bad fit as the result is a multimodal histogram but the Gaussian fit results\\nin unimodal histogram\\n'"
            ],
            "application/vnd.google.colaboratory.intrinsic+json": {
              "type": "string"
            }
          },
          "metadata": {},
          "execution_count": 45
        }
      ],
      "source": [
        "# Explain model fit\n",
        "'''\n",
        "For smaller values of bin the gaussian fit seems like a good fit but as bins are increased it is evident that the gaussian function is bad fit as the result is a multimodal histogram but the Gaussian fit results\n",
        "in unimodal histogram\n",
        "'''"
      ]
    },
    {
      "cell_type": "markdown",
      "metadata": {
        "id": "A5zJ0aObzpow"
      },
      "source": [
        "### Question 3. [ 5 points ]\n",
        "\n",
        "Randomly partition the data into ten disjoint sets (called folds) of approximately the same size. We will use these partitions to assess the generalization performance of these MLE fits. This is done by creating ten experiments where one fold is taken to be a “test” set and the remaining nine are together considered to be the “training” set. A model is fit on the training data and asked to make predictions of the test set. For a given model, this produces ten log probability numbers that reflect how well the model generalized to the unseen data. If the folds are of different size, the predictive log probabilities can be turned into “averages” by dividing the overall logprob by the number of test cases. Perform this procedure for your Gaussian histogram density estimators from Problem 1 and 2. That is, fit this model ten times on 9/10ths of the data and ask it to make predictions of the remaining 1/10th. To visualize the results, produce a boxplot of the average log probabilities."
      ]
    },
    {
      "cell_type": "code",
      "execution_count": null,
      "metadata": {
        "id": "GT4yKbJUzpow"
      },
      "outputs": [],
      "source": [
        "# Perform 10-fold cross validation\n",
        "import math\n",
        "import scipy\n",
        "from sklearn.model_selection import KFold\n",
        "negl=[]\n",
        "\n",
        "kfold_cv = KFold(n_splits=10, random_state=42, shuffle=True)\n"
      ]
    },
    {
      "cell_type": "code",
      "source": [
        "from scipy.stats import norm\n",
        "for index, (train_index, val_index) in enumerate(kfold_cv.split(X)):\n",
        "  mean=np.mean(X[train_index])\n",
        "\n",
        "  #mean=mean/len(train_index)\n",
        "  std=np.std(X[train_index])\n",
        "  #std=np.sqrt(std)\n",
        "  #std=std/len(train_index)\n",
        "  #print(mean)\n",
        "  #print(std)\n",
        "  log_likelihood = norm.logpdf(X[val_index], mean, std)\n",
        "  sum=np.sum(log_likelihood)\n",
        "  sum=sum/len(log_likelihood)\n",
        "  negl.append(sum)\n",
        "  print(sum)"
      ],
      "metadata": {
        "colab": {
          "base_uri": "https://localhost:8080/"
        },
        "id": "t1HwGx3nuOaZ",
        "outputId": "cb79b1c3-c420-4593-cb9c-52e4f6f326a0"
      },
      "execution_count": null,
      "outputs": [
        {
          "output_type": "stream",
          "name": "stdout",
          "text": [
            "-3.0876263689623173\n",
            "-3.0883579769828087\n",
            "-3.0866550914251545\n",
            "-3.0893548475421575\n",
            "-3.088527360147229\n",
            "-3.0854924725970525\n",
            "-3.087609294635255\n",
            "-3.088067363052625\n",
            "-3.083854518157483\n",
            "-3.0857446072161245\n"
          ]
        }
      ]
    },
    {
      "cell_type": "code",
      "execution_count": null,
      "metadata": {
        "colab": {
          "base_uri": "https://localhost:8080/",
          "height": 483
        },
        "id": "rt8BNV5029xD",
        "outputId": "a02a6b55-367b-4a11-b300-464f478021c1"
      },
      "outputs": [
        {
          "output_type": "display_data",
          "data": {
            "text/plain": [
              "<Figure size 720x576 with 1 Axes>"
            ],
            "image/png": "[encoded data removed]"
          },
          "metadata": {
            "needs_background": "light"
          }
        }
      ],
      "source": [
        "# Visualize results\n",
        "la=np.array(negl)\n",
        "plt.boxplot(la)\n",
        " \n",
        "# show plot\n",
        "plt.show()"
      ]
    },
    {
      "cell_type": "markdown",
      "metadata": {
        "id": "f2C-Eupw4siz"
      },
      "source": [
        "## Section 3. Evaluation Questions  [7 points ]\n",
        "\n",
        "1. Suppose we fit a linear model to a polynomial data. Is this model a good fit? If not, is it underfitting or overfitting? [ 2 points ]\n"
      ]
    },
    {
      "cell_type": "markdown",
      "metadata": {
        "id": "Kiae0v324JTt"
      },
      "source": []
    },
    {
      "cell_type": "code",
      "execution_count": null,
      "metadata": {
        "id": "e38bB-0B29xD",
        "colab": {
          "base_uri": "https://localhost:8080/",
          "height": 53
        },
        "outputId": "77cf3f28-311d-4257-f19b-7c9c5e219c6b"
      },
      "outputs": [
        {
          "output_type": "execute_result",
          "data": {
            "text/plain": [
              "'\\nWhen we fit a linear model to a polynomial data it will be a bad fit as this will result in underfitting of the data. The linear model will not be able to capture the complexity of the polynomial functoin.\\n'"
            ],
            "application/vnd.google.colaboratory.intrinsic+json": {
              "type": "string"
            }
          },
          "metadata": {},
          "execution_count": 57
        }
      ],
      "source": [
        "# Your answer here\n",
        "'''\n",
        "When we fit a linear model to a polynomial data it will be a bad fit as this will result in underfitting of the data. The linear model will not be able to capture the complexity of the polynomial functoin.\n",
        "'''"
      ]
    },
    {
      "cell_type": "markdown",
      "metadata": {
        "id": "D1dEQooh4BKm"
      },
      "source": [
        "2.  How does cross validation address the problem of overfitting? Does it only identify (or detect) overfitting? Does it also eliminate (or at least reduce) overfitting? Explain\n",
        "your answers. [2.5 points ]\n"
      ]
    },
    {
      "cell_type": "markdown",
      "metadata": {
        "id": "jl4r3NOi29xE"
      },
      "source": []
    },
    {
      "cell_type": "code",
      "execution_count": null,
      "metadata": {
        "id": "xUYc0ItB29xE",
        "colab": {
          "base_uri": "https://localhost:8080/",
          "height": 53
        },
        "outputId": "992b76bd-0c5b-4b0e-d4d7-ab38f07cc301"
      },
      "outputs": [
        {
          "output_type": "execute_result",
          "data": {
            "text/plain": [
              "'\\nCross validation splits the data into k folds and tunes the hyperparameters so as not to result in overfitting using the k-1 folds as training and 1 fold as test data. We can use cross-validation to reduce underfitting \\nalso and it tunes the hyperparameter to prevent underfitting also. It does not eliminate but only reduces the effect of overfitting.\\n'"
            ],
            "application/vnd.google.colaboratory.intrinsic+json": {
              "type": "string"
            }
          },
          "metadata": {},
          "execution_count": 59
        }
      ],
      "source": [
        "# Your answer here\n",
        "'''\n",
        "Cross validation splits the data into k folds and tunes the hyperparameters so as not to result in overfitting using the k-1 folds as training and 1 fold as test data. We can use cross-validation to reduce underfitting \n",
        "also and it tunes the hyperparameter to prevent underfitting also. It does not eliminate but only reduces the effect of overfitting.\n",
        "'''"
      ]
    },
    {
      "cell_type": "markdown",
      "metadata": {
        "id": "734sFMrm4Ecj"
      },
      "source": [
        "3. Suppose you are given a dataset { (𝑥<sub>1</sub>, 𝑦<sub>1</sub>), (𝑥<sub>2</sub>, 𝑦<sub>2</sub>), ⋯ , (𝑥<sub>m</sub>, 𝑦<sub>m</sub>) } and you are asked to perform **5-fold cross-validation** for selecting the value of 𝜆 for $𝐿_2$ regularization for a regularized linear regression. Please describe the procedure of how you would select the value 𝜆. [2.5 points ]"
      ]
    },
    {
      "cell_type": "markdown",
      "metadata": {
        "id": "JwfnZiSC4Kqs"
      },
      "source": []
    },
    {
      "cell_type": "code",
      "execution_count": null,
      "metadata": {
        "id": "KtJS1tvr29xF",
        "colab": {
          "base_uri": "https://localhost:8080/",
          "height": 53
        },
        "outputId": "cdb6e547-d723-400c-e84f-9562218bcbf4"
      },
      "outputs": [
        {
          "output_type": "execute_result",
          "data": {
            "text/plain": [
              "'\\n1. Choose your lambda then invert it as Cs the logistic regression takes is the inverse of lambdas. Store the inverse of lambdas as floats in a list.\\n2. Divide the dataset into k folds \\n3. For each value of present in the list of C calculate the cross validation error\\n4. Choose lambda that produces the lowest cross validated error.\\n'"
            ],
            "application/vnd.google.colaboratory.intrinsic+json": {
              "type": "string"
            }
          },
          "metadata": {},
          "execution_count": 61
        }
      ],
      "source": [
        "# Your answer here\n",
        "'''\n",
        "1. Choose your lambda then invert it as Cs the logistic regression takes is the inverse of lambdas. Store the inverse of lambdas as floats in a list.\n",
        "2. Divide the dataset into k folds \n",
        "3. For each value of present in the list of C calculate the cross validation error\n",
        "4. Choose lambda that produces the lowest cross validated error.\n",
        "'''"
      ]
    }
  ],
  "metadata": {
    "colab": {
      "provenance": []
    },
    "kernelspec": {
      "display_name": "Python 3 (ipykernel)",
      "language": "python",
      "name": "python3"
    },
    "language_info": {
      "codemirror_mode": {
        "name": "ipython",
        "version": 3
      },
      "file_extension": ".py",
      "mimetype": "text/x-python",
      "name": "python",
      "nbconvert_exporter": "python",
      "pygments_lexer": "ipython3",
      "version": "3.8.9"
    }
  },
  "nbformat": 4,
  "nbformat_minor": 0
}